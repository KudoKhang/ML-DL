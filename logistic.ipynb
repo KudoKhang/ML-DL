{
  "nbformat": 4,
  "nbformat_minor": 0,
  "metadata": {
    "colab": {
      "name": "logistic.ipynb",
      "provenance": [],
      "collapsed_sections": []
    },
    "kernelspec": {
      "name": "python3",
      "display_name": "Python 3"
    },
    "language_info": {
      "name": "python"
    }
  },
  "cells": [
    {
      "cell_type": "code",
      "metadata": {
        "id": "_PSyIthaKtEk"
      },
      "source": [
        "import numpy as np\n",
        "import pandas as pd\n",
        "import matplotlib.pyplot as plt"
      ],
      "execution_count": 1,
      "outputs": []
    },
    {
      "cell_type": "code",
      "metadata": {
        "id": "erPQIRiVK298"
      },
      "source": [
        "def sigmoid(x):\n",
        "  return 1 / (1 + np.exp(-x))"
      ],
      "execution_count": 81,
      "outputs": []
    },
    {
      "cell_type": "code",
      "metadata": {
        "id": "y0o27RstK-EO"
      },
      "source": [
        "data = pd.read_csv('/content/data_logistic.cvs').values\n",
        "N, d = data.shape\n",
        "# 20 , 3"
      ],
      "execution_count": 82,
      "outputs": []
    },
    {
      "cell_type": "code",
      "metadata": {
        "colab": {
          "base_uri": "https://localhost:8080/"
        },
        "id": "oi2FmqPsLJnO",
        "outputId": "b403d493-2e40-4c4d-99e3-0fd64e15dd3d"
      },
      "source": [
        "x = data[:, 0:d-1].reshape(-1, d-1) # Luong va kinh nghiem\n",
        "y = data[:, 2].reshape(-1,1) # Cho vay hay khong\n",
        "y"
      ],
      "execution_count": 83,
      "outputs": [
        {
          "output_type": "execute_result",
          "data": {
            "text/plain": [
              "array([[1.],\n",
              "       [1.],\n",
              "       [1.],\n",
              "       [1.],\n",
              "       [1.],\n",
              "       [1.],\n",
              "       [1.],\n",
              "       [1.],\n",
              "       [1.],\n",
              "       [1.],\n",
              "       [0.],\n",
              "       [0.],\n",
              "       [0.],\n",
              "       [0.],\n",
              "       [0.],\n",
              "       [0.],\n",
              "       [0.],\n",
              "       [0.],\n",
              "       [0.],\n",
              "       [0.]])"
            ]
          },
          "metadata": {
            "tags": []
          },
          "execution_count": 83
        }
      ]
    },
    {
      "cell_type": "code",
      "metadata": {
        "colab": {
          "base_uri": "https://localhost:8080/"
        },
        "id": "W_24wMaoLbEO",
        "outputId": "cb78c5c1-5b6b-4ebe-db58-a184416eadef"
      },
      "source": [
        "x[:10,1]"
      ],
      "execution_count": 84,
      "outputs": [
        {
          "output_type": "execute_result",
          "data": {
            "text/plain": [
              "array([1. , 2. , 1.8, 1. , 2. , 0.5, 3. , 2.5, 1. , 2.5])"
            ]
          },
          "metadata": {
            "tags": []
          },
          "execution_count": 84
        }
      ]
    },
    {
      "cell_type": "code",
      "metadata": {
        "colab": {
          "base_uri": "https://localhost:8080/",
          "height": 296
        },
        "id": "-CXRBkQqMcr1",
        "outputId": "c6ea9691-98cf-4508-d6f8-afcbb43cf683"
      },
      "source": [
        "plt.scatter(x[:10,0], x[:10,1], c='red', edgecolors='none', s=30, label='chovay')\n",
        "plt.scatter(x[10:, 0], x[10:, 1], c='blue', edgecolors='none', s=30, label='từ chối')\n",
        "plt.legend(loc=1)\n",
        "plt.xlabel('Muc luong')\n",
        "plt.ylabel('Kinh nghiem')"
      ],
      "execution_count": 85,
      "outputs": [
        {
          "output_type": "execute_result",
          "data": {
            "text/plain": [
              "Text(0, 0.5, 'Kinh nghiem')"
            ]
          },
          "metadata": {
            "tags": []
          },
          "execution_count": 85
        },
        {
          "output_type": "display_data",
          "data": {
            "image/png": "[encoded data removed]",
            "text/plain": [
              "<Figure size 432x288 with 1 Axes>"
            ]
          },
          "metadata": {
            "tags": [],
            "needs_background": "light"
          }
        }
      ]
    },
    {
      "cell_type": "code",
      "metadata": {
        "colab": {
          "base_uri": "https://localhost:8080/"
        },
        "id": "MfrlfjyZM3c1",
        "outputId": "92584a5f-69b5-4e1d-e86f-05750c21c776"
      },
      "source": [
        "x = np.hstack((np.ones((N, 1)), x))\n",
        "x"
      ],
      "execution_count": 86,
      "outputs": [
        {
          "output_type": "execute_result",
          "data": {
            "text/plain": [
              "array([[ 1.  , 10.  ,  1.  ],\n",
              "       [ 1.  ,  5.  ,  2.  ],\n",
              "       [ 1.  ,  6.  ,  1.8 ],\n",
              "       [ 1.  ,  7.  ,  1.  ],\n",
              "       [ 1.  ,  8.  ,  2.  ],\n",
              "       [ 1.  ,  9.  ,  0.5 ],\n",
              "       [ 1.  ,  4.  ,  3.  ],\n",
              "       [ 1.  ,  5.  ,  2.5 ],\n",
              "       [ 1.  ,  8.  ,  1.  ],\n",
              "       [ 1.  ,  4.  ,  2.5 ],\n",
              "       [ 1.  ,  8.  ,  0.1 ],\n",
              "       [ 1.  ,  7.  ,  0.15],\n",
              "       [ 1.  ,  4.  ,  1.  ],\n",
              "       [ 1.  ,  5.  ,  0.8 ],\n",
              "       [ 1.  ,  7.  ,  0.3 ],\n",
              "       [ 1.  ,  4.  ,  1.  ],\n",
              "       [ 1.  ,  5.  ,  0.5 ],\n",
              "       [ 1.  ,  6.  ,  0.3 ],\n",
              "       [ 1.  ,  7.  ,  0.2 ],\n",
              "       [ 1.  ,  8.  ,  0.15]])"
            ]
          },
          "metadata": {
            "tags": []
          },
          "execution_count": 86
        }
      ]
    },
    {
      "cell_type": "code",
      "metadata": {
        "colab": {
          "base_uri": "https://localhost:8080/"
        },
        "id": "e2lRytXZRM7f",
        "outputId": "b6c03688-41d7-43b5-bce0-dd0be05359ac"
      },
      "source": [
        "x = np.delete(x, 0,1)\n",
        "x"
      ],
      "execution_count": 91,
      "outputs": [
        {
          "output_type": "execute_result",
          "data": {
            "text/plain": [
              "array([[10.  ,  1.  ],\n",
              "       [ 5.  ,  2.  ],\n",
              "       [ 6.  ,  1.8 ],\n",
              "       [ 7.  ,  1.  ],\n",
              "       [ 8.  ,  2.  ],\n",
              "       [ 9.  ,  0.5 ],\n",
              "       [ 4.  ,  3.  ],\n",
              "       [ 5.  ,  2.5 ],\n",
              "       [ 8.  ,  1.  ],\n",
              "       [ 4.  ,  2.5 ],\n",
              "       [ 8.  ,  0.1 ],\n",
              "       [ 7.  ,  0.15],\n",
              "       [ 4.  ,  1.  ],\n",
              "       [ 5.  ,  0.8 ],\n",
              "       [ 7.  ,  0.3 ],\n",
              "       [ 4.  ,  1.  ],\n",
              "       [ 5.  ,  0.5 ],\n",
              "       [ 6.  ,  0.3 ],\n",
              "       [ 7.  ,  0.2 ],\n",
              "       [ 8.  ,  0.15]])"
            ]
          },
          "metadata": {
            "tags": []
          },
          "execution_count": 91
        }
      ]
    },
    {
      "cell_type": "code",
      "metadata": {
        "id": "RXPrvHiDOSpl"
      },
      "source": [
        "w = np.array([0., 0.1, 0.1]).reshape(-1,1)\n",
        "# so lan lap buoc 2\n",
        "num = 1000\n",
        "cost = np.zeros((num, 1))\n",
        "learning_rate = 0.01\n",
        "\n",
        "for i in range(1, num):\n",
        "  y_pre = sigmoid(np.dot(x,w))\n",
        "  cost[i] = -np.sum(np.multiply(y, np.log(y_pre)) + np.multiply(1-y, np.log(1-y_pre)))\n",
        "  #GD\n",
        "  w = w - learning_rate*np.dot(x.T, y_pre-y)\n",
        "  print(cost[i])"
      ],
      "execution_count": null,
      "outputs": []
    },
    {
      "cell_type": "code",
      "metadata": {
        "colab": {
          "base_uri": "https://localhost:8080/",
          "height": 265
        },
        "id": "4NuLfNNJPbpQ",
        "outputId": "3a867245-9092-41af-82b6-309ff744b212"
      },
      "source": [
        "# ve duong phan cach\n",
        "t = 0.5\n",
        "\n",
        "plt.plot((4, 10),(-(w[0]+4*w[1]+ np.log(1/t-1))/w[2], -(w[0] + 10*w[1]+ np.log(1/t-1))/w[2]), 'g')\n",
        "plt.show()"
      ],
      "execution_count": 88,
      "outputs": [
        {
          "output_type": "display_data",
          "data": {
            "image/png": "[encoded data removed]",
            "text/plain": [
              "<Figure size 432x288 with 1 Axes>"
            ]
          },
          "metadata": {
            "tags": [],
            "needs_background": "light"
          }
        }
      ]
    },
    {
      "cell_type": "code",
      "metadata": {
        "id": "NLkil2DuSiKi"
      },
      "source": [
        "# Phai xoa cot 1 nay thhem vao de data ve lai kieu ban dau\n",
        "x = np.delete(x, 0,1)\n",
        "x"
      ],
      "execution_count": null,
      "outputs": []
    },
    {
      "cell_type": "code",
      "metadata": {
        "colab": {
          "base_uri": "https://localhost:8080/",
          "height": 279
        },
        "id": "lad9w42JPsE7",
        "outputId": "8128cf27-0810-4d4a-9c57-a4fe87e18940"
      },
      "source": [
        "plt.scatter(x[:10,0], x[:10,1], c='red', edgecolors='none', s=30, label='chovay')\n",
        "plt.scatter(x[10:, 0], x[10:, 1], c='blue', edgecolors='none', s=30, label='từ chối')\n",
        "plt.legend(loc=1)\n",
        "plt.xlabel('Muc luong')\n",
        "plt.ylabel('Kinh nghiem')\n",
        "t = 0.5\n",
        "plt.plot((4, 10),(-(w[0]+4*w[1]+ np.log(1/t-1))/w[2], -(w[0] + 10*w[1]+ np.log(1/t-1))/w[2]), 'g')\n",
        "plt.show()"
      ],
      "execution_count": 92,
      "outputs": [
        {
          "output_type": "display_data",
          "data": {
            "image/png": "[encoded data removed]",
            "text/plain": [
              "<Figure size 432x288 with 1 Axes>"
            ]
          },
          "metadata": {
            "tags": [],
            "needs_background": "light"
          }
        }
      ]
    },
    {
      "cell_type": "code",
      "metadata": {
        "colab": {
          "base_uri": "https://localhost:8080/"
        },
        "id": "-CTwQy27UMwA",
        "outputId": "61215dc8-1882-4f5c-cd83-4b95e2fe1d44"
      },
      "source": [
        "from sklearn.linear_model import LogisticRegression\n",
        "from sklearn.metrics import accuracy_score\n",
        "\n",
        "model = LogisticRegression()\n",
        "model.fit(x, y.ravel())"
      ],
      "execution_count": 103,
      "outputs": [
        {
          "output_type": "execute_result",
          "data": {
            "text/plain": [
              "LogisticRegression(C=1.0, class_weight=None, dual=False, fit_intercept=True,\n",
              "                   intercept_scaling=1, l1_ratio=None, max_iter=100,\n",
              "                   multi_class='auto', n_jobs=None, penalty='l2',\n",
              "                   random_state=None, solver='lbfgs', tol=0.0001, verbose=0,\n",
              "                   warm_start=False)"
            ]
          },
          "metadata": {
            "tags": []
          },
          "execution_count": 103
        }
      ]
    },
    {
      "cell_type": "code",
      "metadata": {
        "id": "fDMWW1lWUjlL"
      },
      "source": [
        "y_pre = model.predict(x)"
      ],
      "execution_count": 104,
      "outputs": []
    },
    {
      "cell_type": "code",
      "metadata": {
        "colab": {
          "base_uri": "https://localhost:8080/"
        },
        "id": "z14Bhl0yUtkX",
        "outputId": "5008de9c-b63e-472e-a213-9c0e542f2493"
      },
      "source": [
        "accuracy_score(y, y_pre)"
      ],
      "execution_count": 105,
      "outputs": [
        {
          "output_type": "execute_result",
          "data": {
            "text/plain": [
              "1.0"
            ]
          },
          "metadata": {
            "tags": []
          },
          "execution_count": 105
        }
      ]
    },
    {
      "cell_type": "code",
      "metadata": {
        "id": "VqU-G4pGV3tn"
      },
      "source": [
        ""
      ],
      "execution_count": null,
      "outputs": []
    }
  ]
}