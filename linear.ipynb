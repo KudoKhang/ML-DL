{
  "nbformat": 4,
  "nbformat_minor": 0,
  "metadata": {
    "colab": {
      "name": "linear.ipynb",
      "provenance": [],
      "collapsed_sections": []
    },
    "kernelspec": {
      "name": "python3",
      "display_name": "Python 3"
    },
    "language_info": {
      "name": "python"
    }
  },
  "cells": [
    {
      "cell_type": "code",
      "metadata": {
        "colab": {
          "base_uri": "https://localhost:8080/",
          "height": 282
        },
        "id": "0oxxkh8H-fO1",
        "outputId": "bff85d55-c77b-4481-c912-2f95ce917a13"
      },
      "source": [
        "import numpy as np\n",
        "import pandas as pd\n",
        "import matplotlib.pyplot as plt\n",
        "\n",
        "noise = np.random.normal(0,1,30).reshape(-1,1)\n",
        "x = np.linspace(30,100,30).reshape(-1,1)\n",
        "N = x.shape[0]\n",
        "y = 15*x + 8 + 20*noise\n",
        "plt.scatter(x,y)\n",
        "N"
      ],
      "execution_count": null,
      "outputs": [
        {
          "output_type": "execute_result",
          "data": {
            "text/plain": [
              "30"
            ]
          },
          "metadata": {
            "tags": []
          },
          "execution_count": 7
        },
        {
          "output_type": "display_data",
          "data": {
            "image/png": "[encoded data removed]",
            "text/plain": [
              "<Figure size 432x288 with 1 Axes>"
            ]
          },
          "metadata": {
            "tags": [],
            "needs_background": "light"
          }
        }
      ]
    },
    {
      "cell_type": "code",
      "metadata": {
        "colab": {
          "base_uri": "https://localhost:8080/"
        },
        "id": "brD4wrRS-za6",
        "outputId": "e9bb5781-85a3-4907-8d93-0d33ee74638e"
      },
      "source": [
        "data = pd.read_csv('./data_linear.csv').values\n",
        "N = data.shape[0]\n",
        "N"
      ],
      "execution_count": null,
      "outputs": [
        {
          "output_type": "execute_result",
          "data": {
            "text/plain": [
              "30"
            ]
          },
          "metadata": {
            "tags": []
          },
          "execution_count": 8
        }
      ]
    },
    {
      "cell_type": "code",
      "metadata": {
        "colab": {
          "base_uri": "https://localhost:8080/",
          "height": 296
        },
        "id": "BYBrBTkvDDJx",
        "outputId": "b2932e38-b51d-4c60-b234-7496d9167aea"
      },
      "source": [
        "x = data[:,0].reshape(-1,1)\n",
        "y = data[:,1].reshape(-1,1)\n",
        "plt.scatter(x,y)\n",
        "plt.xlabel('met vuong')\n",
        "plt.ylabel('dien tich')"
      ],
      "execution_count": null,
      "outputs": [
        {
          "output_type": "execute_result",
          "data": {
            "text/plain": [
              "Text(0, 0.5, 'dien tich')"
            ]
          },
          "metadata": {
            "tags": []
          },
          "execution_count": 9
        },
        {
          "output_type": "display_data",
          "data": {
            "image/png": "[encoded data removed]",
            "text/plain": [
              "<Figure size 432x288 with 1 Axes>"
            ]
          },
          "metadata": {
            "tags": [],
            "needs_background": "light"
          }
        }
      ]
    },
    {
      "cell_type": "code",
      "metadata": {
        "colab": {
          "base_uri": "https://localhost:8080/"
        },
        "id": "gcW_a1KlDwaR",
        "outputId": "0c056dc5-caaa-4e0a-a639-acefd76ccbb6"
      },
      "source": [
        "x = np.hstack((np.ones((N, 1)), x))\n",
        "\n",
        "w = np.array([0.,1.]).reshape(-1,1)\n",
        "w"
      ],
      "execution_count": null,
      "outputs": [
        {
          "output_type": "execute_result",
          "data": {
            "text/plain": [
              "array([[0.],\n",
              "       [1.]])"
            ]
          },
          "metadata": {
            "tags": []
          },
          "execution_count": 10
        }
      ]
    },
    {
      "cell_type": "code",
      "metadata": {
        "id": "UU7YufgdEygG"
      },
      "source": [
        "import numpy as np\n",
        "import pandas as pd\n",
        "import matplotlib.pyplot as plt\n",
        "#numOfPoint = 30\n",
        "#noise = np.random.normal(0,1,numOfPoint).reshape(-1,1)\n",
        "#x = np.linspace(30, 100, numOfPoint).reshape(-1,1)\n",
        "#N = x.shape[0]\n",
        "#y = 15*x + 8 + 20*noise\n",
        "#plt.scatter(x, y)\n",
        "\n",
        "data = pd.read_csv('data_linear.csv').values\n",
        "N = data.shape[0]\n",
        "x = data[:, 0].reshape(-1, 1)\n",
        "y = data[:, 1].reshape(-1, 1)\n",
        "plt.scatter(x, y)\n",
        "plt.xlabel('mét vuông')\n",
        "plt.ylabel('giá')\n",
        "\n",
        "x = np.hstack((np.ones((N, 1)), x))\n",
        "\n",
        "w = np.array([0.,1.]).reshape(-1,1)\n",
        "\n",
        "numOfIteration = 100\n",
        "cost = np.zeros((numOfIteration,1))\n",
        "learning_rate = 0.000001\n",
        "for i in range(1, numOfIteration):\n",
        "    r = np.dot(x, w) - y\n",
        "    cost[i] = 0.5*np.sum(r*r)\n",
        "    w[0] -= learning_rate*np.sum(r)\n",
        "    # correct the shape dimension\n",
        "    w[1] -= learning_rate*np.sum(np.multiply(r, x[:,1].reshape(-1,1)))\n",
        "    print(cost[i])\n",
        "predict = np.dot(x, w)\n",
        "plt.plot((x[0][1], x[N-1][1]),(predict[0], predict[N-1]), 'r')\n",
        "plt.show()"
      ],
      "execution_count": null,
      "outputs": []
    },
    {
      "cell_type": "code",
      "metadata": {
        "colab": {
          "base_uri": "https://localhost:8080/",
          "height": 297
        },
        "id": "fyCjznS6G849",
        "outputId": "52b22f55-13fa-4039-ca6d-5f2796be83ab"
      },
      "source": [
        "import numpy as np\n",
        "import pandas as pd\n",
        "from sklearn import linear_model\n",
        "import matplotlib.pyplot as plt\n",
        "#numOfPoint = 30\n",
        "#noise = np.random.normal(0,1,numOfPoint).reshape(-1,1)\n",
        "#x = np.linspace(30, 100, numOfPoint).reshape(-1,1)\n",
        "#N = x.shape[0]\n",
        "#y = 15*x + 8 + 20*noise\n",
        "#plt.scatter(x, y)\n",
        "\n",
        "data = pd.read_csv('data_linear.csv').values\n",
        "N = data.shape[0]\n",
        "x = data[:, 0].reshape(-1, 1)\n",
        "y = data[:, 1].reshape(-1, 1)\n",
        "plt.scatter(x, y)\n",
        "plt.xlabel('mét vuông')\n",
        "plt.ylabel('giá')"
      ],
      "execution_count": null,
      "outputs": [
        {
          "output_type": "execute_result",
          "data": {
            "text/plain": [
              "Text(0, 0.5, 'giá')"
            ]
          },
          "metadata": {
            "tags": []
          },
          "execution_count": 75
        },
        {
          "output_type": "display_data",
          "data": {
            "image/png": "[encoded data removed]",
            "text/plain": [
              "<Figure size 432x288 with 1 Axes>"
            ]
          },
          "metadata": {
            "tags": [],
            "needs_background": "light"
          }
        }
      ]
    },
    {
      "cell_type": "code",
      "metadata": {
        "colab": {
          "base_uri": "https://localhost:8080/"
        },
        "id": "WKGUIiB8QL_v",
        "outputId": "aa56866a-26b9-4e2b-ee26-0157e42bb350"
      },
      "source": [
        "model = linear_model.LinearRegression()\n",
        "model.fit(x, y)\n"
      ],
      "execution_count": null,
      "outputs": [
        {
          "output_type": "execute_result",
          "data": {
            "text/plain": [
              "LinearRegression(copy_X=True, fit_intercept=True, n_jobs=None, normalize=False)"
            ]
          },
          "metadata": {
            "tags": []
          },
          "execution_count": 76
        }
      ]
    },
    {
      "cell_type": "code",
      "metadata": {
        "colab": {
          "base_uri": "https://localhost:8080/",
          "height": 297
        },
        "id": "QqTjl6mvQq0m",
        "outputId": "c29e5d30-41bd-4538-f00f-94340f5713a7"
      },
      "source": [
        "plt.scatter(x, y)\n",
        "plt.xlabel('mét vuông')\n",
        "plt.ylabel('giá')\n",
        "plt.plot(x, model.predict(x), color='red')"
      ],
      "execution_count": null,
      "outputs": [
        {
          "output_type": "execute_result",
          "data": {
            "text/plain": [
              "[<matplotlib.lines.Line2D at 0x7f7eefa7ae10>]"
            ]
          },
          "metadata": {
            "tags": []
          },
          "execution_count": 78
        },
        {
          "output_type": "display_data",
          "data": {
            "image/png": "[encoded data removed]",
            "text/plain": [
              "<Figure size 432x288 with 1 Axes>"
            ]
          },
          "metadata": {
            "tags": [],
            "needs_background": "light"
          }
        }
      ]
    },
    {
      "cell_type": "code",
      "metadata": {
        "colab": {
          "base_uri": "https://localhost:8080/"
        },
        "id": "q8NL8aImQ-dT",
        "outputId": "b26fc561-d515-4ac8-c59b-febea22fbd76"
      },
      "source": [
        "need_pre = [19, 50, 100]\n",
        "\n",
        "for i in need_pre:\n",
        "  print(model.predict([[i]]))"
      ],
      "execution_count": null,
      "outputs": [
        {
          "output_type": "stream",
          "text": [
            "[[281.94645655]]\n",
            "[[753.49027134]]\n",
            "[[1514.04481132]]\n"
          ],
          "name": "stdout"
        }
      ]
    },
    {
      "cell_type": "code",
      "metadata": {
        "colab": {
          "base_uri": "https://localhost:8080/",
          "height": 282
        },
        "id": "Ut6yNRf0RVaM",
        "outputId": "2f82184a-9c00-4d45-91ed-df1faeed376b"
      },
      "source": [
        "plt.plot((1,100), 'r')\n",
        "plt.show"
      ],
      "execution_count": null,
      "outputs": [
        {
          "output_type": "execute_result",
          "data": {
            "text/plain": [
              "<function matplotlib.pyplot.show>"
            ]
          },
          "metadata": {
            "tags": []
          },
          "execution_count": 17
        },
        {
          "output_type": "display_data",
          "data": {
            "image/png": "[encoded data removed]",
            "text/plain": [
              "<Figure size 432x288 with 1 Axes>"
            ]
          },
          "metadata": {
            "tags": [],
            "needs_background": "light"
          }
        }
      ]
    },
    {
      "cell_type": "code",
      "metadata": {
        "colab": {
          "base_uri": "https://localhost:8080/",
          "height": 282
        },
        "id": "PPT4_ypwdX53",
        "outputId": "6d4abcb0-79ca-444c-95af-457f1d8f69cf"
      },
      "source": [
        "x = np.linspace(30,100,30)\n",
        "noise = np.random.normal(0,1,30).reshape(-1,1)\n",
        "y = 15*x + 8 + 20*noise\n",
        "plt.scatter(x,y)"
      ],
      "execution_count": null,
      "outputs": [
        {
          "output_type": "execute_result",
          "data": {
            "text/plain": [
              "<matplotlib.collections.PathCollection at 0x7fb5ff8b4b90>"
            ]
          },
          "metadata": {
            "tags": []
          },
          "execution_count": 19
        },
        {
          "output_type": "display_data",
          "data": {
            "image/png": "[encoded data removed]",
            "text/plain": [
              "<Figure size 432x288 with 1 Axes>"
            ]
          },
          "metadata": {
            "tags": [],
            "needs_background": "light"
          }
        }
      ]
    },
    {
      "cell_type": "code",
      "metadata": {
        "id": "xH7Q8UEGhOSJ"
      },
      "source": [
        "dientich = pd.Series(np.linspace(30,100,30))"
      ],
      "execution_count": null,
      "outputs": []
    },
    {
      "cell_type": "code",
      "metadata": {
        "id": "fc1Kpq_6jZSo"
      },
      "source": [
        ""
      ],
      "execution_count": null,
      "outputs": []
    },
    {
      "cell_type": "code",
      "metadata": {
        "colab": {
          "base_uri": "https://localhost:8080/"
        },
        "id": "Q61-M3YShUwE",
        "outputId": "f3c25eca-d9a7-4476-bc71-7deb829e6160"
      },
      "source": [
        "x.reshape(1,-1)[0][1]"
      ],
      "execution_count": null,
      "outputs": [
        {
          "output_type": "execute_result",
          "data": {
            "text/plain": [
              "32.41379310344828"
            ]
          },
          "metadata": {
            "tags": []
          },
          "execution_count": 46
        }
      ]
    },
    {
      "cell_type": "code",
      "metadata": {
        "id": "FudOFq43iP1f"
      },
      "source": [
        ""
      ],
      "execution_count": null,
      "outputs": []
    }
  ]
}